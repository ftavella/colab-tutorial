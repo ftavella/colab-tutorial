{
  "cells": [
    {
      "cell_type": "markdown",
      "metadata": {
        "id": "nSpbwg_Khcl0"
      },
      "source": [
        "# Scientific Communication Workshop"
      ]
    },
    {
      "cell_type": "markdown",
      "metadata": {
        "id": "QiPUyr7Q1XzG"
      },
      "source": [
        "# 1. Data simulation\n",
        "\n",
        "In the following section, we will simulate an experiment where we image the fluorescence intensity oscillation of a set of cells induced by an external factor. The generated data will be the recovered for further analysis."
      ]
    },
    {
      "cell_type": "markdown",
      "metadata": {
        "id": "qEcQjUphyy73"
      },
      "source": [
        "###**1.1. Setting up the environment**"
      ]
    },
    {
      "cell_type": "markdown",
      "metadata": {
        "id": "6BHSLDqOlTHj"
      },
      "source": [
        "### Install dependencies"
      ]
    },
    {
      "cell_type": "code",
      "execution_count": null,
      "metadata": {
        "id": "QCMA1GFek9d1"
      },
      "outputs": [],
      "source": [
        "!pip install pygame -q"
      ]
    },
    {
      "cell_type": "markdown",
      "metadata": {
        "id": "COa87vxTlU4f"
      },
      "source": [
        "### Import packages"
      ]
    },
    {
      "cell_type": "code",
      "execution_count": null,
      "metadata": {
        "id": "Qr4yHFtFiLFY"
      },
      "outputs": [],
      "source": [
        "import os\n",
        "import numpy as np\n",
        "from matplotlib import rc\n",
        "import matplotlib.pyplot as plt\n",
        "import matplotlib.image as mpimg\n",
        "import matplotlib.animation as animation\n",
        "import pygame\n",
        "import random\n",
        "import math\n",
        "from IPython.display import HTML\n",
        "from base64 import b64encode\n",
        "import csv\n",
        "import pandas as pd\n",
        "import ipywidgets as widgets\n",
        "from scipy import signal\n",
        "from scipy import fftpack\n",
        "import seaborn as sn"
      ]
    },
    {
      "cell_type": "markdown",
      "metadata": {
        "id": "WtcAGTs63r7V"
      },
      "source": [
        "###Setting up Matplotlib animation parameters\n",
        "\n",
        "The following is important for section *1.4. Visualizing the simulation*. It allows embedding Matplotlib animations into the Jupyter Notebook, in this case specifically, as an interactive JavaScript widget."
      ]
    },
    {
      "cell_type": "code",
      "execution_count": null,
      "metadata": {
        "id": "HlROZk5d3rl-"
      },
      "outputs": [],
      "source": [
        "rc('animation', html='jshtml')"
      ]
    },
    {
      "cell_type": "markdown",
      "metadata": {
        "id": "eOwiwkF_zWXQ"
      },
      "source": [
        "### **1.2. Defining functions for the simulation**"
      ]
    },
    {
      "cell_type": "code",
      "execution_count": null,
      "metadata": {
        "id": "5P9-DvZrkzbH"
      },
      "outputs": [],
      "source": [
        "# Fool system to think it has a video card\n",
        "os.environ['SDL_VIDEODRIVER']='dummy' \n",
        "\n",
        "pygame.init()\n",
        "random.seed(801)\n",
        "\n",
        "Width,Height = 1200,800\n",
        "black = (0,0,0)\n",
        "\n",
        "TotalFrames = 1000\n",
        "NumBalls = 100\n",
        "BallMinSize = 10\n",
        "BallMaxSize = 40\n",
        "AssociatingFactor = 70\n",
        "MasterBallList = []\n",
        "\n",
        "\n",
        "class OscillatingBalls(object):\n",
        "    \"Generates Oscillating Balls on the Screen of various size and oscillating frequency\"\n",
        "    \n",
        "    def __init__(self):\n",
        "        \"Size is inversely proportional to the oscillation factor\"\n",
        "        self.Ballsize = random.randint(BallMinSize,BallMaxSize)\n",
        "        self.Frequency = AssociatingFactor - self.Ballsize + random.randrange(-100,100,1)/50\n",
        "        self.color = 170\n",
        "        \n",
        "    def BallPosition(self,x,y):\n",
        "        self.Position = (x,y)\n",
        "        \n",
        "    def Oscillate(self,Time):\n",
        "        self.color = 170 + int(45*math.sin((self.Frequency/180)*Time) ) + random.randint(-10, 10)\n",
        "\n",
        "    def get_color(self):\n",
        "        return (self.color)\n",
        "     \n",
        "        \n",
        "def PopulateBalls(NumBalls):\n",
        "\n",
        "    # Creates new csv files with the following names\n",
        "    open(\"x_position.csv\", \"w\")\n",
        "    open(\"y_position.csv\", \"w\")\n",
        "    open(\"size.csv\", \"w\")\n",
        "    open(\"distance_to_tablet.csv\",\"w\")\n",
        "    \n",
        "    while len(MasterBallList)<NumBalls:\n",
        "        Ball = OscillatingBalls()\n",
        "        x = random.randint(50,1150)\n",
        "        y = random.randint(50,800)\n",
        "        Ball.BallPosition(x,y)\n",
        "        Overlap = False\n",
        "\n",
        "        if len(MasterBallList) > 0:\n",
        "            for j in MasterBallList:\n",
        "                Distance = math.sqrt((Ball.Position[0]-j.Position[0])**2 \n",
        "                                     + (Ball.Position[1]-j.Position[1])**2)\n",
        "                Intersection = Ball.Ballsize + j.Ballsize\n",
        "                if Distance < Intersection:\n",
        "                    Overlap = True\n",
        "            if not Overlap:\n",
        "                MasterBallList.append(Ball)\n",
        "        elif len(MasterBallList) == 0:\n",
        "            MasterBallList.append(Ball)\n",
        "        if not Overlap:\n",
        "          \n",
        "          # Writes the x and y position and size of each ball in the corresponding csv file\n",
        "          f0 = open(\"x_position.csv\", \"a\")\n",
        "          f0.write(str(Ball.Position[0]) + \"\\r\\n\")\n",
        "\n",
        "          f1 = open(\"y_position.csv\", \"a\")\n",
        "          f1.write(str(Ball.Position[1]) + \"\\r\\n\")\n",
        "\n",
        "          f2 = open(\"size.csv\", \"a\")\n",
        "          f2.write(str(Ball.Ballsize) + \"\\r\\n\")\n",
        "\n",
        "          f3 = open(\"distance_to_tablet.csv\",\"a\")\n",
        "          f3.write(str(round(math.sqrt((Ball.Position[0]-25)**2 + (Ball.Position[1]-25)**2),2)) + \"\\r\\n\")\n",
        "    \n",
        "\n",
        "def Simulate(output_dir=\"video_frames\"):\n",
        "    clock = pygame.time.Clock()\n",
        "    fps = 10\n",
        "    run = True\n",
        "       \n",
        "    PopulateBalls(NumBalls)\n",
        "\n",
        "    # Create a csv file that will store the variable color for each ball throughout time\n",
        "    open(\"color.csv\", \"w\")\n",
        "\n",
        "    for timepoint in range(TotalFrames):\n",
        "        gameDisplay.fill(black)\n",
        "\n",
        "        for Ball in MasterBallList:\n",
        "            pygame.draw.circle(gameDisplay,(0,255,0),(25,25),25)  #Tablet of ligand\n",
        "            pygame.draw.circle(gameDisplay,(Ball.color,Ball.color,Ball.color),Ball.Position,Ball.Ballsize)\n",
        "            Ball.Oscillate(timepoint)\n",
        "\n",
        "            # Each column will represent a different ball\n",
        "            f = open(\"intensity.csv\", \"a\")\n",
        "            f.write(str(Ball.color) + \",\")\n",
        "            f.close()\n",
        "        \n",
        "        # Each row represents one timepoint\n",
        "        f = open(\"intensity.csv\", \"a\")\n",
        "        f.write(\"\\r\\n\")\n",
        "        f.close()\n",
        "\n",
        "        for event in pygame.event.get():\n",
        "            if event.type == pygame.QUIT or not run:\n",
        "                pygame.quit()\n",
        "\n",
        "                \n",
        "        filename = f\"./{output_dir}/simulation_{timepoint}.png\"\n",
        "        pygame.image.save( gameDisplay, filename )\n",
        "        pygame.display.update()\n",
        "        clock.tick(fps)\n",
        "    pygame.quit()"
      ]
    },
    {
      "cell_type": "markdown",
      "metadata": {
        "id": "kse18o_vlZqg"
      },
      "source": [
        "### **1.3. Generating video frames**"
      ]
    },
    {
      "cell_type": "code",
      "execution_count": null,
      "metadata": {
        "id": "_zYrhp3QlOoJ"
      },
      "outputs": [],
      "source": [
        "gameDisplay = pygame.display.set_mode((Width,Height))\n",
        "gameDisplay.fill(black)\n",
        "!rm -r video_frames\n",
        "!mkdir video_frames # Creates a folder to store frames\n",
        "Simulate()"
      ]
    },
    {
      "cell_type": "code",
      "execution_count": null,
      "metadata": {
        "id": "NdpE8Oxkt6ov"
      },
      "outputs": [],
      "source": [
        "fig = plt.figure(figsize=(8,6))\n",
        "ax = plt.gca()\n",
        "img = mpimg.imread('video_frames/simulation_1.png')\n",
        "image = ax.imshow(img)\n",
        "\n",
        "def frame(w):\n",
        "    img = mpimg.imread(f'video_frames/simulation_{w}.png')\n",
        "    image.set_data(img)\n",
        "    return"
      ]
    },
    {
      "cell_type": "code",
      "execution_count": null,
      "metadata": {
        "id": "U2UZRTBNuUdw"
      },
      "outputs": [],
      "source": [
        "anim = animation.FuncAnimation(fig, frame, frames=200, blit=False, repeat=True,\n",
        "                               interval=50)"
      ]
    },
    {
      "cell_type": "markdown",
      "metadata": {
        "id": "vYj4z_Qy3HRG"
      },
      "source": [
        "### **1.4. Visualizing the simulation**"
      ]
    },
    {
      "cell_type": "code",
      "execution_count": null,
      "metadata": {
        "colab": {
          "background_save": true
        },
        "id": "v4a1ydH55hhr"
      },
      "outputs": [],
      "source": [
        "# Takes about 1 min 20 sec to load\n",
        "anim"
      ]
    },
    {
      "cell_type": "markdown",
      "metadata": {
        "id": "SsT2vZ8089rw"
      },
      "source": [
        "# 2. Data Visualization and Analysis"
      ]
    },
    {
      "cell_type": "markdown",
      "metadata": {
        "id": "_HryzKzRvIEh"
      },
      "source": [
        "###**2.1. Writing the relevant data extracted from the simulation into dataframes**\n",
        "\n",
        "A DataFrame is a data structure that organizes data into a 2D table, like a spreadsheet."
      ]
    },
    {
      "cell_type": "code",
      "execution_count": null,
      "metadata": {
        "colab": {
          "background_save": true
        },
        "id": "m3nFWXa5vI6L"
      },
      "outputs": [],
      "source": [
        "intensity_df = pd.read_csv('/content/intensity.csv', header=None).iloc[: , :-1]\n",
        "xpos_df = pd.read_csv('/content/x_position.csv', header=None)\n",
        "ypos_df = pd.read_csv('/content/y_position.csv', header=None)\n",
        "size_df = pd.read_csv('/content/size.csv', header=None)\n",
        "distance_df = pd.read_csv('/content/distance_to_tablet.csv',header =None)\n",
        "\n",
        "#Change the column names\n",
        "ypos_df.columns=['y_pos']\n",
        "xpos_df.columns =['x_pos']\n",
        "size_df.columns=['size']\n",
        "distance_df.columns=['distance']"
      ]
    },
    {
      "cell_type": "markdown",
      "metadata": {
        "id": "sCgPBvAJ8y6l"
      },
      "source": [
        "###**2.2. Visualizing the data**\n",
        "\n"
      ]
    },
    {
      "cell_type": "markdown",
      "metadata": {
        "id": "2m86mLbHLv4C"
      },
      "source": [
        "In the first place, we will transpose the color matrix, so that the columns would represent the time and each row corresponds to a ball.\n",
        "\n",
        "Therefore, we may concatenate the size and position Dataframes into the color DataFrame, so that the new one has a column for size, a column for x position and a column for y position."
      ]
    },
    {
      "cell_type": "code",
      "execution_count": null,
      "metadata": {
        "colab": {
          "background_save": true
        },
        "id": "57eHIIhULvND"
      },
      "outputs": [],
      "source": [
        "df = pd.concat([intensity_df.T, size_df, xpos_df, ypos_df, distance_df], axis=1)\n",
        "df.head()"
      ]
    },
    {
      "cell_type": "markdown",
      "metadata": {
        "id": "U3XdPVQcN3ea"
      },
      "source": [
        "Afterwards, we will analize the variation of the intensity over time for each ball"
      ]
    },
    {
      "cell_type": "code",
      "execution_count": null,
      "metadata": {
        "colab": {
          "background_save": true
        },
        "id": "Z9EE18PJl5vv"
      },
      "outputs": [],
      "source": [
        "df.iloc[:,0:1000].T.describe()"
      ]
    },
    {
      "cell_type": "markdown",
      "metadata": {
        "id": "GXilHgt1uYca"
      },
      "source": [
        "Additionally, we may plor the variation of this intensity of the signal and even apply a tunable bandpass filter to remove the noise in the signal.\n",
        "\n",
        "To create an interactive widget wherein the user selects the parameters of the filter and the ball number that is being represented, we use *ipywidgets*"
      ]
    },
    {
      "cell_type": "code",
      "execution_count": null,
      "metadata": {
        "colab": {
          "background_save": true
        },
        "id": "OS_knDuWOdZ9"
      },
      "outputs": [],
      "source": [
        "def plot_intensity(N):\n",
        "    \"\"\"\n",
        "    Plots the intensity output of an specific ball (Ball number N) in time for the first 200 seconds\n",
        "    \"\"\"    \n",
        "    plt.plot(df[N][0:200])\n",
        "    #fig = px.line(color_df[N][0:200])\n",
        "    #fig.show()\n",
        "\n",
        "def bandpass_filter(ball_number, N, Wn):\n",
        "    \"\"\"\n",
        "    Return a filtered signal\n",
        "    \"\"\"    \n",
        "    y = intensity_df[ball_number].iloc[0:200]\n",
        "    b, a = signal.butter(N, [Wn[0], Wn[1]], 'bandpass')\n",
        "    output_signal = signal.filtfilt(b, a, y)\n",
        "    plt.plot(output_signal)"
      ]
    },
    {
      "cell_type": "code",
      "execution_count": null,
      "metadata": {
        "colab": {
          "background_save": true
        },
        "id": "z_yWAQYLrwxK"
      },
      "outputs": [],
      "source": [
        "widgets.interact(bandpass_filter, ball_number = widgets.IntSlider(value=0, min=0, max=99,  description='Ball Number'),\n",
        "                 N = widgets.IntSlider(value=1, min=1, max=4,  description='Filter stringency'),\n",
        "                 Wn = widgets.FloatRangeSlider(value=[0, 0.999], min=0.001,max=0.999,step=0.001))"
      ]
    },
    {
      "cell_type": "markdown",
      "metadata": {
        "id": "ysvG-FS-vCZh"
      },
      "source": [
        "We can get the oscilation frequency of the balls applying a fourier transform to get the main frequency of the intensity signals"
      ]
    },
    {
      "cell_type": "code",
      "execution_count": null,
      "metadata": {
        "colab": {
          "background_save": true
        },
        "id": "BQ1M776FU4RX"
      },
      "outputs": [],
      "source": [
        "def get_main_frequency (array):\n",
        "  fourier = fftpack.fft((array - np.mean(array)).values)\n",
        "  frequencies = fftpack.fftfreq(array.size)\n",
        "  freq = frequencies[np.argmax(np.abs(fourier))]\n",
        "  return round(freq*2*np.pi,2) # we multiply by 2*pi so that it is consistent with our initial simulation input"
      ]
    },
    {
      "cell_type": "code",
      "execution_count": null,
      "metadata": {
        "colab": {
          "background_save": true
        },
        "id": "Zz5dH5PxzoKs"
      },
      "outputs": [],
      "source": [
        "df['main_frequency'] = df.loc[:,0:999].apply(get_main_frequency, axis=1)\n",
        "df.head()"
      ]
    },
    {
      "cell_type": "markdown",
      "metadata": {
        "id": "uUYzwEr-vPtx"
      },
      "source": [
        "Finally, we may create a final curated DataFrame with only the relevant variables to be analyzed:\n",
        "\n",
        "*   size\n",
        "*   x and y position\n",
        "*   distance to the tablet\n",
        "*   oscillation frequency\n",
        "\n"
      ]
    },
    {
      "cell_type": "code",
      "execution_count": null,
      "metadata": {
        "colab": {
          "background_save": true
        },
        "id": "aIWzbkxsvPGy"
      },
      "outputs": [],
      "source": [
        "final_df = df[['size','y_pos','x_pos','distance','main_frequency']]"
      ]
    },
    {
      "cell_type": "markdown",
      "metadata": {
        "id": "zBDukb6FwfTZ"
      },
      "source": [
        "###**2.3. Analyzing the correlation between variables**"
      ]
    },
    {
      "cell_type": "code",
      "execution_count": null,
      "metadata": {
        "colab": {
          "background_save": true
        },
        "id": "3d3gw6oWXwu_"
      },
      "outputs": [],
      "source": [
        "pd.plotting.scatter_matrix(final_df, figsize=(10,10))\n",
        "plt.show()"
      ]
    },
    {
      "cell_type": "code",
      "execution_count": null,
      "metadata": {
        "colab": {
          "background_save": true
        },
        "id": "02V9TVWOa4sZ"
      },
      "outputs": [],
      "source": [
        "corrM = final_df.corr()\n",
        "sn.heatmap(corrM, annot=True, cmap='vlag')"
      ]
    },
    {
      "cell_type": "code",
      "execution_count": null,
      "metadata": {
        "colab": {
          "background_save": true
        },
        "id": "iaE4JI7r6mV1"
      },
      "outputs": [],
      "source": [
        "final_df['main_frequency'].corr(final_df['size'])"
      ]
    },
    {
      "cell_type": "code",
      "execution_count": null,
      "metadata": {
        "colab": {
          "background_save": true
        },
        "id": "uv_7m4Rl5hy8"
      },
      "outputs": [],
      "source": [
        "plt.scatter(final_df['size'], final_df['main_frequency'])\n",
        "plt.xlabel(\"Size\")\n",
        "plt.ylabel(\"Oscillation Frequency\")\n",
        "plt.title(\"Variation of the oscillation frequency of the intensity of the balls with their size\")\n",
        "plt.show()"
      ]
    }
  ],
  "metadata": {
    "colab": {
      "collapsed_sections": [],
      "provenance": []
    },
    "kernelspec": {
      "display_name": "Python 3",
      "name": "python3"
    },
    "language_info": {
      "name": "python"
    }
  },
  "nbformat": 4,
  "nbformat_minor": 0
}